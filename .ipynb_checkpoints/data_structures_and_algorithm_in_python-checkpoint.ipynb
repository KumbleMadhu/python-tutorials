{
 "cells": [
  {
   "cell_type": "markdown",
   "metadata": {},
   "source": [
    "# Classes, data structures and algorithm in python"
   ]
  },
  {
   "cell_type": "code",
   "execution_count": 1,
   "metadata": {},
   "outputs": [],
   "source": [
    "class Car():\n",
    "    def __init__(monkey, model, color): # object constructor\n",
    "        monkey.model = model\n",
    "        monkey.color = color\n",
    "        \n",
    "    def show(god):\n",
    "        print(\"car model is: \", god.model)\n",
    "        print(\"car color is: \", god.color)\n",
    "\n",
    "audi = Car('r8', 'black')\n",
    "ford = Car(\"mustang\", 'orange')"
   ]
  },
  {
   "cell_type": "code",
   "execution_count": 2,
   "metadata": {},
   "outputs": [
    {
     "name": "stdout",
     "output_type": "stream",
     "text": [
      "car model is:  r8\n",
      "car color is:  black\n"
     ]
    }
   ],
   "source": [
    "audi.show()"
   ]
  },
  {
   "cell_type": "code",
   "execution_count": 3,
   "metadata": {},
   "outputs": [
    {
     "name": "stdout",
     "output_type": "stream",
     "text": [
      "car model is:  mustang\n",
      "car color is:  orange\n"
     ]
    }
   ],
   "source": [
    "ford.show()"
   ]
  },
  {
   "cell_type": "code",
   "execution_count": 4,
   "metadata": {},
   "outputs": [
    {
     "name": "stdout",
     "output_type": "stream",
     "text": [
      "self is replaced with donut\n"
     ]
    }
   ],
   "source": [
    "class Test():\n",
    "    def func(donut):\n",
    "        print(\"self is replaced with donut\")\n",
    "        \n",
    "obj = Test()\n",
    "obj.func()"
   ]
  },
  {
   "cell_type": "code",
   "execution_count": 5,
   "metadata": {},
   "outputs": [
    {
     "name": "stdout",
     "output_type": "stream",
     "text": [
      "Employee name: Madhu , Emp salary: 45000 , age: 23\n",
      "Employee name: Ganesh , Emp salary: 60000 , age: 18\n",
      "Total employees: 2\n"
     ]
    }
   ],
   "source": [
    "class Employee():\n",
    "    \"\"\"common base class for all employees\"\"\"\n",
    "    empcount = 0\n",
    "    \n",
    "    def __init__(self, name, age, salary):\n",
    "        self.name = name\n",
    "        self.salary = salary\n",
    "        self.age = age\n",
    "        Employee.empcount += 1\n",
    "        \n",
    "    def displaycount(self):\n",
    "        print(\"Total employee:{}\".format(Employee.empcount))\n",
    "        \n",
    "    def displayemployee(self):\n",
    "        print(\"Employee name:\", self.name, \", Emp salary:\", self.salary,  \", age:\", self.age,)\n",
    "        \n",
    "# defining the objects\n",
    "emp1 = Employee(\"Madhu\", 23, 45000)\n",
    "emp2 = Employee(\"Ganesh\", 18, 60000)\n",
    "\n",
    "# calling the objects\n",
    "emp1.displayemployee()\n",
    "emp2.displayemployee()\n",
    "print('Total employees:', Employee.empcount)"
   ]
  },
  {
   "cell_type": "code",
   "execution_count": 6,
   "metadata": {},
   "outputs": [
    {
     "data": {
      "text/plain": [
       "True"
      ]
     },
     "execution_count": 6,
     "metadata": {},
     "output_type": "execute_result"
    }
   ],
   "source": [
    "hasattr(emp2, 'salary')"
   ]
  },
  {
   "cell_type": "code",
   "execution_count": 7,
   "metadata": {},
   "outputs": [
    {
     "data": {
      "text/plain": [
       "23"
      ]
     },
     "execution_count": 7,
     "metadata": {},
     "output_type": "execute_result"
    }
   ],
   "source": [
    "getattr(emp1, 'age')"
   ]
  },
  {
   "cell_type": "code",
   "execution_count": 8,
   "metadata": {},
   "outputs": [],
   "source": [
    "setattr(emp1, 'name', 'Raj')"
   ]
  },
  {
   "cell_type": "code",
   "execution_count": 9,
   "metadata": {},
   "outputs": [
    {
     "name": "stdout",
     "output_type": "stream",
     "text": [
      "Employee name: Raj , Emp salary: 45000 , age: 23\n"
     ]
    }
   ],
   "source": [
    "emp1.displayemployee()"
   ]
  },
  {
   "cell_type": "code",
   "execution_count": 10,
   "metadata": {},
   "outputs": [
    {
     "data": {
      "text/plain": [
       "'Raj'"
      ]
     },
     "execution_count": 10,
     "metadata": {},
     "output_type": "execute_result"
    }
   ],
   "source": [
    "getattr(emp1, 'name')"
   ]
  },
  {
   "cell_type": "code",
   "execution_count": 11,
   "metadata": {},
   "outputs": [
    {
     "name": "stdout",
     "output_type": "stream",
     "text": [
      "Employee.__doc__: common base class for all employees\n",
      "\n",
      "\n",
      "Employee.__name__: Employee\n",
      "\n",
      "\n",
      "Employee.__module__: __main__\n",
      "\n",
      "\n",
      "Employee.__bases__: (<class 'object'>,)\n",
      "\n",
      "\n",
      "Employee.__dict__: {'__module__': '__main__', '__doc__': 'common base class for all employees', 'empcount': 2, '__init__': <function Employee.__init__ at 0x7fa087ee3310>, 'displaycount': <function Employee.displaycount at 0x7fa087ee3d30>, 'displayemployee': <function Employee.displayemployee at 0x7fa087ee39d0>, '__dict__': <attribute '__dict__' of 'Employee' objects>, '__weakref__': <attribute '__weakref__' of 'Employee' objects>}\n"
     ]
    }
   ],
   "source": [
    "print (\"Employee.__doc__:\", Employee.__doc__)\n",
    "print('\\n')\n",
    "print (\"Employee.__name__:\", Employee.__name__)\n",
    "print('\\n')\n",
    "print (\"Employee.__module__:\", Employee.__module__)\n",
    "print('\\n')\n",
    "print (\"Employee.__bases__:\", Employee.__bases__)\n",
    "print('\\n')\n",
    "print (\"Employee.__dict__:\", Employee.__dict__)"
   ]
  },
  {
   "cell_type": "markdown",
   "metadata": {},
   "source": [
    "### Class inheritance"
   ]
  },
  {
   "cell_type": "code",
   "execution_count": 12,
   "metadata": {},
   "outputs": [
    {
     "name": "stdout",
     "output_type": "stream",
     "text": [
      "calling child constructor\n",
      "calling child method\n",
      "calling parent method\n",
      "parent attribute: 2500\n"
     ]
    }
   ],
   "source": [
    "class Parent():\n",
    "    parentAttr = 400\n",
    "    \n",
    "    def __init__(self):\n",
    "        print(\"calling parent constructor\")\n",
    "        \n",
    "    def parent_method(self):\n",
    "        print(\"calling parent method\")\n",
    "        \n",
    "    def setAttr(self, attr):\n",
    "        Parent.setAttr = attr\n",
    "    \n",
    "    def getAttr(self):\n",
    "        print(\"parent attribute:\", Parent.setAttr)\n",
    "    \n",
    "\n",
    "class Child(Parent):\n",
    "    def __init__(self):\n",
    "        print(\"calling child constructor\")\n",
    "        \n",
    "    def child_method(self):\n",
    "        print(\"calling child method\")\n",
    "        \n",
    "\n",
    "c = Child()\n",
    "c.child_method()\n",
    "c.parent_method()\n",
    "c.setAttr(2500)\n",
    "c.getAttr()"
   ]
  },
  {
   "cell_type": "code",
   "execution_count": 13,
   "metadata": {},
   "outputs": [],
   "source": [
    "class Solution():\n",
    "    def removeDuplicates(self, nums):\n",
    "        if not nums:\n",
    "            return 0\n",
    "        \n",
    "        new_arr = 0\n",
    "        \n",
    "        for i in range(1, len(nums)):\n",
    "            if nums[i] != nums[new_arr]:\n",
    "                new_arr += 1\n",
    "                nums[new_arr] = nums[i]\n",
    "                \n",
    "        return new_arr + 1\n",
    "    \n",
    "\n",
    "    removeDuplicates('self', [2, 2, 2, 3, 3, 4])"
   ]
  },
  {
   "cell_type": "code",
   "execution_count": 14,
   "metadata": {},
   "outputs": [],
   "source": [
    "expenses = {'january': 2200, 'february': 2350, 'march': 2600, 'april': 2130, 'may': 2190}"
   ]
  },
  {
   "cell_type": "code",
   "execution_count": 15,
   "metadata": {},
   "outputs": [
    {
     "name": "stdout",
     "output_type": "stream",
     "text": [
      "In feb, $150 was spent extra cmpared to jan.\n"
     ]
    }
   ],
   "source": [
    "print(\"In feb, ${} was spent extra cmpared to jan.\".format(abs(expenses['january'] - expenses['february'])))"
   ]
  },
  {
   "cell_type": "code",
   "execution_count": 16,
   "metadata": {},
   "outputs": [
    {
     "name": "stdout",
     "output_type": "stream",
     "text": [
      "sum of first quater expenses: $7150\n"
     ]
    }
   ],
   "source": [
    "print(\"sum of first quater expenses: ${}\".format(expenses['january'] + expenses['february'] + expenses['march']))"
   ]
  },
  {
   "cell_type": "code",
   "execution_count": 17,
   "metadata": {},
   "outputs": [
    {
     "name": "stdout",
     "output_type": "stream",
     "text": [
      "did i spend exactly $2000 in any month: False\n"
     ]
    }
   ],
   "source": [
    "print(\"did i spend exactly $2000 in any month:\", 2000 in expenses)"
   ]
  },
  {
   "cell_type": "code",
   "execution_count": 18,
   "metadata": {},
   "outputs": [],
   "source": [
    "expenses[\"june\"] = 1980"
   ]
  },
  {
   "cell_type": "code",
   "execution_count": 19,
   "metadata": {},
   "outputs": [
    {
     "data": {
      "text/plain": [
       "{'january': 2200,\n",
       " 'february': 2350,\n",
       " 'march': 2600,\n",
       " 'april': 2130,\n",
       " 'may': 2190,\n",
       " 'june': 1980}"
      ]
     },
     "execution_count": 19,
     "metadata": {},
     "output_type": "execute_result"
    }
   ],
   "source": [
    "expenses"
   ]
  },
  {
   "cell_type": "code",
   "execution_count": 20,
   "metadata": {},
   "outputs": [
    {
     "data": {
      "text/plain": [
       "1930"
      ]
     },
     "execution_count": 20,
     "metadata": {},
     "output_type": "execute_result"
    }
   ],
   "source": [
    "expenses['april'] - 200"
   ]
  },
  {
   "cell_type": "code",
   "execution_count": 21,
   "metadata": {},
   "outputs": [],
   "source": [
    "heros=['spider man', 'thor', 'hulk', 'iron man', 'captain america']"
   ]
  },
  {
   "cell_type": "code",
   "execution_count": 22,
   "metadata": {},
   "outputs": [
    {
     "data": {
      "text/plain": [
       "5"
      ]
     },
     "execution_count": 22,
     "metadata": {},
     "output_type": "execute_result"
    }
   ],
   "source": [
    "len(heros)"
   ]
  },
  {
   "cell_type": "code",
   "execution_count": 23,
   "metadata": {},
   "outputs": [],
   "source": [
    "heros.append('black panther')"
   ]
  },
  {
   "cell_type": "code",
   "execution_count": 24,
   "metadata": {},
   "outputs": [
    {
     "data": {
      "text/plain": [
       "['spider man', 'thor', 'hulk', 'iron man', 'captain america', 'black panther']"
      ]
     },
     "execution_count": 24,
     "metadata": {},
     "output_type": "execute_result"
    }
   ],
   "source": [
    "heros"
   ]
  },
  {
   "cell_type": "code",
   "execution_count": 25,
   "metadata": {},
   "outputs": [],
   "source": [
    "heros.remove('black panther')"
   ]
  },
  {
   "cell_type": "code",
   "execution_count": 26,
   "metadata": {},
   "outputs": [
    {
     "data": {
      "text/plain": [
       "['spider man', 'thor', 'hulk', 'iron man', 'captain america']"
      ]
     },
     "execution_count": 26,
     "metadata": {},
     "output_type": "execute_result"
    }
   ],
   "source": [
    "heros"
   ]
  },
  {
   "cell_type": "code",
   "execution_count": 27,
   "metadata": {},
   "outputs": [],
   "source": [
    "heros.insert(3, 'black panther')"
   ]
  },
  {
   "cell_type": "code",
   "execution_count": 28,
   "metadata": {},
   "outputs": [
    {
     "data": {
      "text/plain": [
       "['spider man', 'thor', 'hulk', 'black panther', 'iron man', 'captain america']"
      ]
     },
     "execution_count": 28,
     "metadata": {},
     "output_type": "execute_result"
    }
   ],
   "source": [
    "heros"
   ]
  },
  {
   "cell_type": "code",
   "execution_count": 29,
   "metadata": {},
   "outputs": [],
   "source": [
    "heros[1: 3] = ['doctor strange']"
   ]
  },
  {
   "cell_type": "code",
   "execution_count": 30,
   "metadata": {},
   "outputs": [
    {
     "data": {
      "text/plain": [
       "['spider man',\n",
       " 'doctor strange',\n",
       " 'black panther',\n",
       " 'iron man',\n",
       " 'captain america']"
      ]
     },
     "execution_count": 30,
     "metadata": {},
     "output_type": "execute_result"
    }
   ],
   "source": [
    "heros"
   ]
  },
  {
   "cell_type": "code",
   "execution_count": 31,
   "metadata": {},
   "outputs": [],
   "source": [
    "heros.sort()"
   ]
  },
  {
   "cell_type": "code",
   "execution_count": 32,
   "metadata": {},
   "outputs": [
    {
     "data": {
      "text/plain": [
       "['black panther',\n",
       " 'captain america',\n",
       " 'doctor strange',\n",
       " 'iron man',\n",
       " 'spider man']"
      ]
     },
     "execution_count": 32,
     "metadata": {},
     "output_type": "execute_result"
    }
   ],
   "source": [
    "heros"
   ]
  },
  {
   "cell_type": "code",
   "execution_count": 37,
   "metadata": {},
   "outputs": [
    {
     "name": "stdout",
     "output_type": "stream",
     "text": [
      "enter the max number: 23\n",
      "odd numbers:  [1, 3, 5, 7, 9, 11, 13, 15, 17, 19, 21]\n"
     ]
    }
   ],
   "source": [
    "maxNum = int(input(\"enter the max number: \"))\n",
    "\n",
    "odd_list = []\n",
    "\n",
    "for i in range(maxNum):\n",
    "    if i % 2 == 1:\n",
    "        odd_list.append(i)\n",
    "        \n",
    "print(\"odd numbers: \", odd_list)"
   ]
  },
  {
   "cell_type": "code",
   "execution_count": 44,
   "metadata": {},
   "outputs": [
    {
     "name": "stdout",
     "output_type": "stream",
     "text": [
      "banana --> blueberry --> grapes --> orange\n",
      "100 --> 45 --> 7 --> 12 --> 567 --> 99 --> 67\n"
     ]
    }
   ],
   "source": [
    "class Node:\n",
    "    def __init__(self, data=None, next=None):\n",
    "        self.data = data\n",
    "        self.next = next\n",
    "\n",
    "class LinkedList:\n",
    "    def __init__(self):\n",
    "        self.head = None\n",
    "\n",
    "    def print(self):\n",
    "        if self.head is None:\n",
    "            print(\"Linked list is empty\")\n",
    "            return\n",
    "        itr = self.head\n",
    "        llstr = ''\n",
    "        while itr:\n",
    "            llstr += str(itr.data)+' --> ' if itr.next else str(itr.data)\n",
    "            itr = itr.next\n",
    "        print(llstr)\n",
    "\n",
    "    def get_length(self):\n",
    "        count = 0\n",
    "        itr = self.head\n",
    "        while itr:\n",
    "            count+=1\n",
    "            itr = itr.next\n",
    "\n",
    "        return count\n",
    "\n",
    "    def insert_at_begining(self, data):\n",
    "        node = Node(data, self.head)\n",
    "        self.head = node\n",
    "\n",
    "    def insert_at_end(self, data):\n",
    "        if self.head is None:\n",
    "            self.head = Node(data, None)\n",
    "            return\n",
    "\n",
    "        itr = self.head\n",
    "\n",
    "        while itr.next:\n",
    "            itr = itr.next\n",
    "\n",
    "        itr.next = Node(data, None)\n",
    "\n",
    "    def insert_at(self, index, data):\n",
    "        if index<0 or index>self.get_length():\n",
    "            raise Exception(\"Invalid Index\")\n",
    "\n",
    "        if index==0:\n",
    "            self.insert_at_begining(data)\n",
    "            return\n",
    "\n",
    "        count = 0\n",
    "        itr = self.head\n",
    "        while itr:\n",
    "            if count == index - 1:\n",
    "                node = Node(data, itr.next)\n",
    "                itr.next = node\n",
    "                break\n",
    "\n",
    "            itr = itr.next\n",
    "            count += 1\n",
    "\n",
    "    def remove_at(self, index):\n",
    "        if index<0 or index>=self.get_length():\n",
    "            raise Exception(\"Invalid Index\")\n",
    "\n",
    "        if index==0:\n",
    "            self.head = self.head.next\n",
    "            return\n",
    "\n",
    "        count = 0\n",
    "        itr = self.head\n",
    "        while itr:\n",
    "            if count == index - 1:\n",
    "                itr.next = itr.next.next\n",
    "                break\n",
    "\n",
    "            itr = itr.next\n",
    "            count+=1\n",
    "\n",
    "    def insert_values(self, data_list):\n",
    "        self.head = None\n",
    "        for data in data_list:\n",
    "            self.insert_at_end(data)\n",
    "\n",
    "\n",
    "if __name__ == '__main__':\n",
    "    ll = LinkedList()\n",
    "    ll.insert_values([\"banana\",\"mango\",\"grapes\",\"orange\"])\n",
    "    ll.insert_at(1,\"blueberry\")\n",
    "    ll.remove_at(2)\n",
    "    ll.print()\n",
    "    ll.insert_values([45,7,12,567,99])\n",
    "    ll.insert_at_end(67)\n",
    "    ll.insert_at_begining(100)\n",
    "    ll.print()"
   ]
  },
  {
   "cell_type": "code",
   "execution_count": null,
   "metadata": {},
   "outputs": [],
   "source": []
  }
 ],
 "metadata": {
  "kernelspec": {
   "display_name": "Python 3",
   "language": "python",
   "name": "python3"
  },
  "language_info": {
   "codemirror_mode": {
    "name": "ipython",
    "version": 3
   },
   "file_extension": ".py",
   "mimetype": "text/x-python",
   "name": "python",
   "nbconvert_exporter": "python",
   "pygments_lexer": "ipython3",
   "version": "3.8.5"
  }
 },
 "nbformat": 4,
 "nbformat_minor": 4
}
