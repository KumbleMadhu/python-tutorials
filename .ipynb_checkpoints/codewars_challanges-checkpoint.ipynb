{
 "cells": [
  {
   "cell_type": "code",
   "execution_count": 1,
   "metadata": {},
   "outputs": [],
   "source": [
    "def namelist(names):\n",
    "    if len(names) != 0:\n",
    "        arr = []\n",
    "        for i in range(0, len(names) -1):\n",
    "            arr.append(names[i]['name'])\n",
    "            x = ', '.join(arr)\n",
    "            x += ' & ' + names[-1]['name'] if x != '' else names[-1]['name']\n",
    "    return x"
   ]
  },
  {
   "cell_type": "code",
   "execution_count": 2,
   "metadata": {},
   "outputs": [
    {
     "data": {
      "text/plain": [
       "'madhu, ganesh, sharma & geetha'"
      ]
     },
     "execution_count": 2,
     "metadata": {},
     "output_type": "execute_result"
    }
   ],
   "source": [
    "namelist([{'name': 'madhu'}, {'name': 'ganesh'}, {'name': 'sharma'}, {'name': 'geetha'}])"
   ]
  },
  {
   "cell_type": "code",
   "execution_count": 3,
   "metadata": {},
   "outputs": [],
   "source": [
    "def namelist(names):\n",
    "    if len(names) > 1:\n",
    "        return '{} & {}'.format(', '.join(x['name'] for x in names[:-1]), names[-1]['name'])\n",
    "    elif names:\n",
    "        return names[0]['name']\n",
    "    else:\n",
    "        return ''"
   ]
  },
  {
   "cell_type": "code",
   "execution_count": 4,
   "metadata": {},
   "outputs": [
    {
     "data": {
      "text/plain": [
       "'ganesh, sharma & geetha'"
      ]
     },
     "execution_count": 4,
     "metadata": {},
     "output_type": "execute_result"
    }
   ],
   "source": [
    "namelist([{'name': 'ganesh'}, {'name': 'sharma'}, {'name': 'geetha'}])"
   ]
  },
  {
   "cell_type": "code",
   "execution_count": 5,
   "metadata": {},
   "outputs": [],
   "source": [
    "def bool_to_word(boolean):\n",
    "    if boolean == 'true':\n",
    "        return 'Yes'\n",
    "    elif  boolean == 'false':\n",
    "        return 'No'\n",
    "    else:\n",
    "        return None"
   ]
  },
  {
   "cell_type": "code",
   "execution_count": 6,
   "metadata": {},
   "outputs": [
    {
     "data": {
      "text/plain": [
       "'No'"
      ]
     },
     "execution_count": 6,
     "metadata": {},
     "output_type": "execute_result"
    }
   ],
   "source": [
    "bool_to_word('false')"
   ]
  },
  {
   "cell_type": "code",
   "execution_count": 46,
   "metadata": {},
   "outputs": [
    {
     "name": "stdout",
     "output_type": "stream",
     "text": [
      "[-66, -66, -23, -10, -4, 2, 6, 14, 18, 94]\n"
     ]
    }
   ],
   "source": [
    "lst = [-10, 6, -4, 18, -23, -66, -66, 94, 2, 14]\n",
    "new_lst = []\n",
    "\n",
    "while lst:\n",
    "    minimum = lst[0] # considering random number in list\n",
    "    \n",
    "    for i in lst:\n",
    "        if i < minimum:\n",
    "            minimum = i\n",
    "    new_lst.append(minimum)\n",
    "    lst.remove(minimum)\n",
    "\n",
    "print(new_lst)"
   ]
  },
  {
   "cell_type": "code",
   "execution_count": 55,
   "metadata": {},
   "outputs": [
    {
     "name": "stdout",
     "output_type": "stream",
     "text": [
      "Twinkle, twinkle, little star, \n",
      "\tHow I wonder what you are! \n",
      "\t\tUp above the world so high, \n",
      "\t\tLike a diamond in the sky. \n",
      "Twinkle, twinkle, little star, \n",
      "\tHow I wonder what you are\n"
     ]
    }
   ],
   "source": [
    "print('Twinkle, twinkle, little star, \\n\\tHow I wonder what you are! \\n\\t\\tUp above the world so high, \\n\\t\\tLike a diamond in the sky. \\nTwinkle, twinkle, little star, \\n\\tHow I wonder what you are')"
   ]
  },
  {
   "cell_type": "code",
   "execution_count": 98,
   "metadata": {},
   "outputs": [
    {
     "name": "stdout",
     "output_type": "stream",
     "text": [
      "current data and time:\n",
      "28/01/2021 11:55:49\n"
     ]
    }
   ],
   "source": [
    "import datetime\n",
    "now = datetime.datetime.now()\n",
    "print('current data and time:')\n",
    "print(now.strftime('%d/%m/%Y %H:%M:%S'))"
   ]
  },
  {
   "cell_type": "code",
   "execution_count": 153,
   "metadata": {},
   "outputs": [],
   "source": [
    "class Employee():\n",
    "    def __init__(self, first, last, pay):\n",
    "        self.first = first\n",
    "        self.last = last\n",
    "        self.pay = pay\n",
    "        self.email = first + '.' + last + '@email.com'\n",
    "\n",
    "    def fullname(self):\n",
    "        return '{} {}'.format(self.first, self.last)\n",
    "\n",
    "emp1 = Employee('kim', 'kardashian', 14)\n",
    "emp2 = Employee('john', 'peter', 47)"
   ]
  },
  {
   "cell_type": "code",
   "execution_count": 154,
   "metadata": {},
   "outputs": [
    {
     "name": "stdout",
     "output_type": "stream",
     "text": [
      "kim.kardashian@email.com\n",
      "john.peter@email.com\n"
     ]
    }
   ],
   "source": [
    "print(emp1.email)\n",
    "print(emp2.email)"
   ]
  },
  {
   "cell_type": "code",
   "execution_count": 155,
   "metadata": {},
   "outputs": [
    {
     "name": "stdout",
     "output_type": "stream",
     "text": [
      "kim kardashian\n",
      "john peter\n"
     ]
    }
   ],
   "source": [
    "print(emp1.fullname())\n",
    "print(emp2.fullname())"
   ]
  },
  {
   "cell_type": "code",
   "execution_count": 156,
   "metadata": {},
   "outputs": [
    {
     "name": "stdout",
     "output_type": "stream",
     "text": [
      "kim kardashian\n"
     ]
    }
   ],
   "source": [
    "print(Employee.fullname(emp1))"
   ]
  },
  {
   "cell_type": "code",
   "execution_count": null,
   "metadata": {},
   "outputs": [],
   "source": []
  }
 ],
 "metadata": {
  "kernelspec": {
   "display_name": "Python 3",
   "language": "python",
   "name": "python3"
  },
  "language_info": {
   "codemirror_mode": {
    "name": "ipython",
    "version": 3
   },
   "file_extension": ".py",
   "mimetype": "text/x-python",
   "name": "python",
   "nbconvert_exporter": "python",
   "pygments_lexer": "ipython3",
   "version": "3.8.5"
  }
 },
 "nbformat": 4,
 "nbformat_minor": 4
}
